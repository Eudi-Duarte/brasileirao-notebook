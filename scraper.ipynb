{
 "cells": [
  {
   "cell_type": "code",
   "execution_count": null,
   "id": "3e5ef348",
   "metadata": {},
   "outputs": [],
   "source": [
    "from urllib.request import urlopen\n",
    "from bs4 import BeautifulSoup\n",
    "from urllib.error import HTTPError, URLError\n",
    "import re\n",
    "\n",
    "url = 'https://pt.wikipedia.org/wiki/Campeonato_Brasileiro_de_Futebol_de_2025_-_S%C3%A9rie_A'\n",
    "\n",
    "def getPage(url):\n",
    "    try:\n",
    "        html = urlopen(url)\n",
    "    except HTTPError as e:\n",
    "        print(e.code, e.reason)\n",
    "    except URLError as e:\n",
    "        print(e.reason)\n",
    "    else:\n",
    "        return BeautifulSoup(html, 'html.parser')\n"
   ]
  },
  {
   "cell_type": "code",
   "execution_count": 150,
   "id": "fcf6e425",
   "metadata": {},
   "outputs": [
    {
     "data": {
      "text/plain": [
       "[('Clube Atlético Mineiro', 'ATM'),\n",
       " ('Esporte Clube Bahia', 'BAH'),\n",
       " ('Botafogo de Futebol e Regatas', 'BOT'),\n",
       " ('Ceará Sporting Club', 'CEA'),\n",
       " ('Sport Club Corinthians Paulista', 'COR'),\n",
       " ('Cruzeiro Esporte Clube', 'CRU'),\n",
       " ('Clube de Regatas do Flamengo', 'FLA'),\n",
       " ('Fluminense Football Club', 'FLU'),\n",
       " ('Fortaleza Esporte Clube', 'FOR'),\n",
       " ('Grêmio Foot-Ball Porto Alegrense', 'GRE'),\n",
       " ('Sport Club Internacional', 'INT'),\n",
       " ('Esporte Clube Juventude', 'JUV'),\n",
       " ('Mirassol Futebol Clube', 'MIR'),\n",
       " ('Sociedade Esportiva Palmeiras', 'PAL'),\n",
       " ('Red Bull Bragantino', 'RBB'),\n",
       " ('Santos Futebol Clube', 'SAN'),\n",
       " ('São Paulo Futebol Clube', 'SPA'),\n",
       " ('Sport Club do Recife', 'SPT'),\n",
       " ('Club de Regatas Vasco da Gama', 'VAS'),\n",
       " ('Esporte Clube Vitória', 'VIT')]"
      ]
     },
     "execution_count": 150,
     "metadata": {},
     "output_type": "execute_result"
    }
   ],
   "source": [
    "## Getting teams names and abreviations\n",
    "\n",
    "bs = getPage(url)\n",
    "\n",
    "results_table = bs.find('table', {'class':'plainrowheaders'})\n",
    "teams = results_table.tr.find_all('th')\n",
    "teams = teams[1:]\n",
    "teams = [(team.a.attrs['title'], team.a.get_text()) for team in teams]\n",
    "teams"
   ]
  }
 ],
 "metadata": {
  "kernelspec": {
   "display_name": ".venv",
   "language": "python",
   "name": "python3"
  },
  "language_info": {
   "codemirror_mode": {
    "name": "ipython",
    "version": 3
   },
   "file_extension": ".py",
   "mimetype": "text/x-python",
   "name": "python",
   "nbconvert_exporter": "python",
   "pygments_lexer": "ipython3",
   "version": "3.12.10"
  }
 },
 "nbformat": 4,
 "nbformat_minor": 5
}
